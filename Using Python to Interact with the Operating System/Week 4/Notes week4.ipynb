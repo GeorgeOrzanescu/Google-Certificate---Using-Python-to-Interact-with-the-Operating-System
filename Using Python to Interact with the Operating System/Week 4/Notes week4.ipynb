{
 "cells": [
  {
   "cell_type": "markdown",
   "metadata": {},
   "source": [
    "### Standard Streams"
   ]
  },
  {
   "cell_type": "code",
   "execution_count": null,
   "metadata": {},
   "outputs": [],
   "source": [
    "# Standard Streams\n",
    "# STDIN - the standard input stream which is a channel between a program and a source of input\n",
    "# STDOUT - the standard output stream which is a pathway between a program and a target of output\n",
    "# SDTERR - the standard error stream which displays output like standard out, but is used specifically as a channel to show error messages and diagnostics from the program\n",
    "\n",
    "data = input(\"This comes from STDIN: \")\n",
    "print(\"We are writing it to STDOUT: \" + data)"
   ]
  },
  {
   "cell_type": "markdown",
   "metadata": {},
   "source": [
    "### Environment Variables"
   ]
  },
  {
   "cell_type": "code",
   "execution_count": null,
   "metadata": {},
   "outputs": [],
   "source": [
    "# os module provides environ dictionary\n",
    "import os\n",
    "\n",
    "# environ variables allows us to access environment variables\n",
    "# get function specifies a default value when the key that we're looking for isn't in the dictionary\n",
    "print(\"HOME: \" + os.environ.get(\"HOME\", \"\"))\n",
    "print(\"SHELL: \" + os.environ.get(\"SHELL\", \"\"))\n",
    "\n",
    "## !! this will not work in Windows OS because this variables dont exist --> enter PATH instead of HOME \n",
    "\n",
    "# export FRUIT=Pineapple\n",
    "print(\"FRUIT: \" + os.environ.get(\"FRUIT\", \"\"))"
   ]
  },
  {
   "cell_type": "markdown",
   "metadata": {},
   "source": [
    "###  Command Line arguments and Exit Status"
   ]
  },
  {
   "cell_type": "code",
   "execution_count": null,
   "metadata": {},
   "outputs": [],
   "source": [
    "# Command-Line Arguments and Exit Status\n",
    "import sys\n",
    "print(sys.argv)\n",
    "\n",
    "import os\n",
    "\n",
    "# Receives a file name as a command line argument\n",
    "filename = sys.argv[0]\n",
    "\n",
    "# Checks whether the file name exist or not\n",
    "# When the file doesn't exist, it creates it by writing a line to it\n",
    "if not os.path.exists(filename):\n",
    "     with open(filename, \"w\") as f:\n",
    "        f.write(\"New file created\\n\")\n",
    "# When the file exist, our script print an error message and exits with an exit value of one\n",
    "else:\n",
    "    print(\"Error, the file {} already exists!\".format(filename))\n",
    "    sys.exit(1)\n",
    "    \n",
    "# !! better not run it"
   ]
  },
  {
   "cell_type": "markdown",
   "metadata": {},
   "source": [
    "### Subprocesses"
   ]
  },
  {
   "cell_type": "code",
   "execution_count": null,
   "metadata": {},
   "outputs": [],
   "source": [
    "# Running System Commands in Python\n",
    "import subprocess\n",
    "print(subprocess.run([\"date\"]))\n",
    "print(subprocess.run([\"sleep\", \"2\"])) "
   ]
  },
  {
   "cell_type": "code",
   "execution_count": null,
   "metadata": {},
   "outputs": [],
   "source": [
    "# Obtaining the Output of a System Command\n",
    "# The \"host\" command converts a host name to an IP address and vice versa\n",
    "# Stores the result in a variable by passing the capture_output=True so that the result can be accessed\n",
    "result = subprocess.run([\"host\", \"8.8.8.8\"], capture_output=True)\n",
    "print(result.returncode)\n",
    "# OUTPUT: b'8.8.8.8.in-addr.arpa domain name pointer dns.google.\\n'\n",
    "# b' indicates that the output is an array of bytes\n",
    "print(result.stdout)\n",
    "# Decode function applies an encoding to transform the bytes into a string\n",
    "# It uses a UTF-8 encoding by default\n",
    "print(result.stdout.decode().split())\n",
    "\n",
    "# Executes the rm command to remove file that doesn't exist\n",
    "result = subprocess.run([\"rm\", \"does_not_exist\"], capture_output=True)\n",
    "print(result.returncode)\n",
    "# stdout prints empty value since there is an error \n",
    "print(result.stdout)\n",
    "# stderr prints error value as the value can be accessed through the stderr attribute\n",
    "print(result.stderr)"
   ]
  },
  {
   "cell_type": "code",
   "execution_count": null,
   "metadata": {},
   "outputs": [],
   "source": []
  }
 ],
 "metadata": {
  "kernelspec": {
   "display_name": "Python 3",
   "language": "python",
   "name": "python3"
  },
  "language_info": {
   "codemirror_mode": {
    "name": "ipython",
    "version": 3
   },
   "file_extension": ".py",
   "mimetype": "text/x-python",
   "name": "python",
   "nbconvert_exporter": "python",
   "pygments_lexer": "ipython3",
   "version": "3.9.0"
  }
 },
 "nbformat": 4,
 "nbformat_minor": 4
}
