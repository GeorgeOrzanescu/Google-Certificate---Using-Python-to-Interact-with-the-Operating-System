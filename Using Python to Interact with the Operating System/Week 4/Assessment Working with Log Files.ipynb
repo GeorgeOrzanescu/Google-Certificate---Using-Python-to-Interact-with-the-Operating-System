{
 "cells": [
  {
   "cell_type": "markdown",
   "metadata": {},
   "source": [
    "#### Introduction:\n",
    "Imagine one of your colleagues is struggling with a program that keeps throwing an error. Unfortunately, the program's source code is too complicated to easily find the error there. The good news is that the program outputs a log file you can read! Let's write a script to search the log file for the exact error, then output that error into a separate file so you can work out what's wrong\n",
    "\n",
    "#### What you'll do\n",
    "\n",
    "Write a script to search the log file using regex to find for the exact error.\n",
    "Report the error into a separate file so you know what's wrong for further analysis."
   ]
  },
  {
   "cell_type": "code",
   "execution_count": null,
   "metadata": {},
   "outputs": [],
   "source": [
    "#!/usr/bin/env python3\n",
    "import sys\n",
    "import os\n",
    "import re\n",
    "\n",
    "\n",
    "def error_search(log_file):\n",
    "    error = input(\"What is the error? \")\n",
    "      returned_errors = []\n",
    "    with open(log_file, mode='r',encoding='UTF-8') as file:\n",
    "        for log in  file.readlines():\n",
    "            error_patterns = [\"error\"]\n",
    "        for i in range(len(error.split(' '))):\n",
    "            error_patterns.append(r\"{}\".format(error.split(' ')[i].lower()))\n",
    "        if all(re.search(error_pattern, log.lower()) for error_pattern in error_patterns):\n",
    "            returned_errors.append(log)\n",
    "        file.close()\n",
    "    return returned_errors\n",
    "\n",
    "  \n",
    "def file_output(returned_errors):\n",
    "    with open(os.path.expanduser('~') + '/data/errors_found.log', 'w') as file:\n",
    "        for error in returned_errors:\n",
    "            file.write(error)\n",
    "        file.close()\n",
    "        \n",
    "if __name__ == \"__main__\":\n",
    "    log_file = sys.argv[1]\n",
    "    returned_errors = error_search(log_file)\n",
    "    file_output(returned_errors)\n",
    "    sys.exit(0)"
   ]
  }
 ],
 "metadata": {
  "kernelspec": {
   "display_name": "Python 3",
   "language": "python",
   "name": "python3"
  },
  "language_info": {
   "codemirror_mode": {
    "name": "ipython",
    "version": 3
   },
   "file_extension": ".py",
   "mimetype": "text/x-python",
   "name": "python",
   "nbconvert_exporter": "python",
   "pygments_lexer": "ipython3",
   "version": "3.9.0"
  }
 },
 "nbformat": 4,
 "nbformat_minor": 4
}
