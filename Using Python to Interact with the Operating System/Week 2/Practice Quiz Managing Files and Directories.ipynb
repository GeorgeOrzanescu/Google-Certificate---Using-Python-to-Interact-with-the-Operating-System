{
 "cells": [
  {
   "cell_type": "markdown",
   "metadata": {},
   "source": [
    "1. The create_python_script function creates a new python script in the current working directory, adds the line of comments to it declared  by the 'comments' variable, and returns the size of the new file. Fill in the gaps to create a script called \"program.py\"."
   ]
  },
  {
   "cell_type": "code",
   "execution_count": 1,
   "metadata": {},
   "outputs": [
    {
     "name": "stdout",
     "output_type": "stream",
     "text": [
      "31\n"
     ]
    }
   ],
   "source": [
    "from os import path\n",
    "\n",
    "def create_python_script(filename):\n",
    "    \n",
    "    comments = \"# Start of a new Python program\"\n",
    "    #add below\n",
    "    \n",
    "    with open(filename, \"w\") as f:\n",
    "        f.write(comments)\n",
    "        f.close()\n",
    "        \n",
    "    filesize = path.getsize(filename)\n",
    "    return(filesize)\n",
    "\n",
    "print(create_python_script(\"program.py\"))"
   ]
  },
  {
   "cell_type": "markdown",
   "metadata": {},
   "source": [
    "2. The new_directory function creates a new directory inside the current working directory, then creates a new empty file inside the new directory, and returns the list of files in that directory. Fill in the gaps to create a file \"script.py\" in the directory \"PythonPrograms\". \n",
    "\n",
    "#### https://docs.python.org/3/library/os.path.html"
   ]
  },
  {
   "cell_type": "code",
   "execution_count": 2,
   "metadata": {},
   "outputs": [
    {
     "name": "stdout",
     "output_type": "stream",
     "text": [
      "['script.py']\n"
     ]
    }
   ],
   "source": [
    "import os\n",
    "\n",
    "def new_directory(directory, filename):\n",
    "    \n",
    "    # Before creating a new directory, check to see if it already exists\n",
    "    if os.path.isdir(directory) == False:\n",
    "      os.mkdir(directory)\n",
    "\n",
    "    # Create the new file inside of the new directory\n",
    "    os.chdir(directory)  # --> Change the current working directory to path.\n",
    "    with open (filename,'w') as file:\n",
    "        \n",
    "        file.write(\"\")\n",
    "        file.close()\n",
    "\n",
    "     # Return the list of files in the new directory\n",
    "     return os.listdir()\n",
    "\n",
    "print(new_directory(\"PythonPrograms\", \"script.py\"))"
   ]
  },
  {
   "cell_type": "markdown",
   "metadata": {},
   "source": [
    "3. The file_date function creates a new file in the current working directory, checks the date that the file was modified, and returns just the date portion of the timestamp in the format of yyyy-mm-dd. Fill in the gaps to create a file called \"newfile.txt\" and check the date that it was modified."
   ]
  },
  {
   "cell_type": "code",
   "execution_count": 3,
   "metadata": {},
   "outputs": [
    {
     "name": "stdout",
     "output_type": "stream",
     "text": [
      "2021-03-29\n"
     ]
    }
   ],
   "source": [
    "import os\n",
    "import datetime\n",
    "\n",
    "def file_date(filename):\n",
    "    # Create the file in the current directory\n",
    "    with open (filename,'w') as file:\n",
    "        pass\n",
    "    timestamp = os.path.getmtime(filename)\n",
    "    c=datetime.datetime.fromtimestamp(timestamp)\n",
    "    # Convert the timestamp into a readable format, then into a string\n",
    "\n",
    "    # Return just the date portion \n",
    "    # Hint: how many characters are in “yyyy-mm-dd”? \n",
    "    return (\"{}\".format(c.strftime(\"%Y-%m-%d\")))\n",
    "\n",
    "print(file_date(\"newfile.txt\")) \n",
    "# Should be today's date in the format of yyyy-mm-dd"
   ]
  },
  {
   "cell_type": "markdown",
   "metadata": {},
   "source": [
    "4. The parent_directory function returns the name of the directory that's located just above the current working directory. Remember that '..' is a relative path alias that means \"go up to the parent directory\". Fill in the gaps to complete this function."
   ]
  },
  {
   "cell_type": "code",
   "execution_count": 5,
   "metadata": {},
   "outputs": [
    {
     "name": "stdout",
     "output_type": "stream",
     "text": [
      "C:\\Users\\georg\\Desktop\\Using Python to Interact with the Operating System\\Week 2\\PythonPrograms\\..\n",
      "C:\\Users\\georg\\Desktop\\Using Python to Interact with the Operating System\\Week 2\n"
     ]
    }
   ],
   "source": [
    "import os\n",
    "def parent_directory():\n",
    "    # Create a relative path to the parent \n",
    "    # of the current working directory \n",
    "    relative_parent = os.path.join(os.getcwd(), os.pardir)  \n",
    "    # getcwd() --> Return a string representing the current working directory.\n",
    "    # pardir() --> The constant string used by the operating system to refer to the parent directory. This is '..' for Windows and POSIX\n",
    "   \n",
    "    # Return the absolute path of the parent directory\n",
    "    return os.path.abspath(relative_parent)\n",
    "\n",
    "print(parent_directory())"
   ]
  },
  {
   "cell_type": "code",
   "execution_count": null,
   "metadata": {},
   "outputs": [],
   "source": []
  }
 ],
 "metadata": {
  "kernelspec": {
   "display_name": "Python 3",
   "language": "python",
   "name": "python3"
  },
  "language_info": {
   "codemirror_mode": {
    "name": "ipython",
    "version": 3
   },
   "file_extension": ".py",
   "mimetype": "text/x-python",
   "name": "python",
   "nbconvert_exporter": "python",
   "pygments_lexer": "ipython3",
   "version": "3.9.0"
  }
 },
 "nbformat": 4,
 "nbformat_minor": 4
}
