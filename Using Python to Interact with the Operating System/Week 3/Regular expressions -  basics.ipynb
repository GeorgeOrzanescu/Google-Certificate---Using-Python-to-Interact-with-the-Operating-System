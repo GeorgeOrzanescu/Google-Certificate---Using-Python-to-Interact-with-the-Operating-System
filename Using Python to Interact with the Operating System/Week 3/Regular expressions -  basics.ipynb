{
 "cells": [
  {
   "cell_type": "code",
   "execution_count": 1,
   "metadata": {},
   "outputs": [
    {
     "name": "stdout",
     "output_type": "stream",
     "text": [
      "12345\n"
     ]
    }
   ],
   "source": [
    "log = \"July 31 7:51:48 mycomputer bad_process[12345]: ERROR Perfroming package upgrade\"\n",
    "# we want to extract the process ID number between [ ]\n",
    "\n",
    "#without reg expressions\n",
    "index = log.index('[') #index of first occurence of [\n",
    "\n",
    "print(log[index+1:index+6])  "
   ]
  },
  {
   "cell_type": "markdown",
   "metadata": {},
   "source": [
    "### Regular expressions (called REs, or regexes, or regex patterns) are essentially a tiny, highly specialized programming language embedded inside Python and made available through the re module. Using this little language, you specify the rules for the set of possible strings that you want to match;"
   ]
  },
  {
   "cell_type": "code",
   "execution_count": 12,
   "metadata": {},
   "outputs": [
    {
     "name": "stdout",
     "output_type": "stream",
     "text": [
      "<re.Match object; span=(38, 45), match='[12345]'>\n"
     ]
    }
   ],
   "source": [
    "import re\n",
    "\n",
    "# The \"r\" at the beginning of the pattern indicates that this is a rawstring\n",
    "# Always use rawstrings for regular expressions in Python\n",
    "regex = r\"\\[(\\d+)\\]\"\n",
    "\n",
    "result = re.search(regex, log)\n",
    "print(result)"
   ]
  },
  {
   "cell_type": "markdown",
   "metadata": {},
   "source": [
    "Search for a word or letter or only some characters in a string!"
   ]
  },
  {
   "cell_type": "code",
   "execution_count": 14,
   "metadata": {},
   "outputs": [
    {
     "name": "stdout",
     "output_type": "stream",
     "text": [
      "<re.Match object; span=(2, 5), match='aza'>\n",
      "<re.Match object; span=(3, 6), match='aar'>\n"
     ]
    }
   ],
   "source": [
    "result = re.search(r'aza', 'plaza')\n",
    "print(result)\n",
    "\n",
    "result = re.search(r'aar', 'bazaar')\n",
    "print(result)\n"
   ]
  },
  {
   "cell_type": "markdown",
   "metadata": {},
   "source": [
    "**^**\n",
    "(Caret.) Matches the start of the string, and in MULTILINE mode also matches immediately after each newline.\n",
    "\n",
    "**$** Matches the end of the string or just before the newline at the end of the string, and in MULTILINE mode also matches before a newline."
   ]
  },
  {
   "cell_type": "code",
   "execution_count": 20,
   "metadata": {},
   "outputs": [
    {
     "name": "stdout",
     "output_type": "stream",
     "text": [
      "<re.Match object; span=(0, 1), match='p'>\n",
      "<re.Match object; span=(4, 5), match='a'>\n"
     ]
    }
   ],
   "source": [
    "result = re.search(r'^p', 'plaza')\n",
    "print(result)\n",
    "\n",
    "result = re.search(r'a$', 'plaza')\n",
    "print(result)"
   ]
  },
  {
   "cell_type": "markdown",
   "metadata": {},
   "source": [
    "### Wildcards and Character classes"
   ]
  },
  {
   "cell_type": "code",
   "execution_count": 24,
   "metadata": {},
   "outputs": [
    {
     "name": "stdout",
     "output_type": "stream",
     "text": [
      "<re.Match object; span=(20, 24), match='zero'>\n",
      "<re.Match object; span=(20, 25), match='zero0'>\n"
     ]
    }
   ],
   "source": [
    "print(re.search(r\"[a-z]ero\",\"One is not equal to zero\")) #match any lower letter in the alphabet with -ero after it\n",
    "\n",
    "print(re.search(r\"[a-z]ero[0-9]\",\"One is not equal to zero0\"))"
   ]
  },
  {
   "cell_type": "code",
   "execution_count": 33,
   "metadata": {},
   "outputs": [
    {
     "name": "stdout",
     "output_type": "stream",
     "text": [
      "<re.Match object; span=(3, 4), match=' '>\n",
      "<re.Match object; span=(7, 8), match='@'>\n"
     ]
    }
   ],
   "source": [
    "print(re.search(r\"[^a-zA-Z]\",\"One is not equal to zero0\")) #surprize the ^ inside [] means NOT that chars\n",
    "\n",
    "print(re.search(r\"[^company]\",\"company@gmail.com\"))"
   ]
  },
  {
   "cell_type": "code",
   "execution_count": 36,
   "metadata": {},
   "outputs": [
    {
     "name": "stdout",
     "output_type": "stream",
     "text": [
      "<re.Match object; span=(8, 13), match='gmail'>\n",
      "<re.Match object; span=(8, 13), match='yahoo'>\n"
     ]
    }
   ],
   "source": [
    "print(re.search(r\"gmail|yahoo\",\"company@gmail.com\"))  # | means or \n",
    "\n",
    "print(re.search(r\"gmail|yahoo\",\"company@yahoo.com\"))"
   ]
  },
  {
   "cell_type": "markdown",
   "metadata": {},
   "source": [
    "### Repetition Qualifiers\n",
    "\n",
    "!! .\n",
    "(Dot.) In the default mode, this matches any character except a newline. If the DOTALL flag has been specified, this matches any character including a newline."
   ]
  },
  {
   "cell_type": "code",
   "execution_count": 42,
   "metadata": {},
   "outputs": [
    {
     "name": "stdout",
     "output_type": "stream",
     "text": [
      "<re.Match object; span=(0, 20), match='Adenozinetrifosphate'>\n",
      "<re.Match object; span=(9, 12), match='tri'>\n"
     ]
    }
   ],
   "source": [
    "print(re.search(r\"Ad.*e\",\"Adenozinetrifosphate\"))\n",
    "# * Causes the resulting RE to match 0 or more repetitions of the preceding RE, as many repetitions as are possible\n",
    "\n",
    "print(re.search(r\"tri*\",\"Adenozinetrifosphate\")) # see the difference it only checks for repetitions for the last char \n",
    "# in this case i  ..."
   ]
  },
  {
   "cell_type": "markdown",
   "metadata": {},
   "source": [
    "'**+**'   Causes the resulting RE to match 1 or more repetitions of the preceding RE. ab+ will match ‘a’ followed by any non-zero number of ‘b’s; it will not match just ‘a’."
   ]
  },
  {
   "cell_type": "code",
   "execution_count": null,
   "metadata": {},
   "outputs": [],
   "source": [
    "print(re.search(r\"A.+\",\"Adenozinetrifosphate\"))\n",
    "print(re.search(r\"A.+\",\"A\")) \n",
    "# this returns None because A is not followed by at least 1 char"
   ]
  },
  {
   "cell_type": "markdown",
   "metadata": {},
   "source": [
    "**?** Causes the resulting RE to match 0 or 1 repetitions of the preceding RE"
   ]
  },
  {
   "cell_type": "code",
   "execution_count": 47,
   "metadata": {},
   "outputs": [
    {
     "name": "stdout",
     "output_type": "stream",
     "text": [
      "<re.Match object; span=(3, 7), match='each'>\n",
      "<re.Match object; span=(7, 12), match='peach'>\n"
     ]
    }
   ],
   "source": [
    "print(re.search(r\"p?each\", \"To each their own\"))\n",
    "print(re.search(r\"p?each\", \"I like peaches\"))\n",
    "\n",
    "# so this is mostrly used to specify an optional character"
   ]
  },
  {
   "cell_type": "markdown",
   "metadata": {},
   "source": [
    "### Escaping characters\n",
    "\n",
    "Some characters like . $ # & have other meaning ( . matches any char ) ..so we have to escape them.\n",
    "#### **\\** Either escapes special characters (permitting you to match characters like '*', '?', and so forth),"
   ]
  },
  {
   "cell_type": "code",
   "execution_count": 53,
   "metadata": {},
   "outputs": [
    {
     "name": "stdout",
     "output_type": "stream",
     "text": [
      "<re.Match object; span=(13, 17), match='.com'>\n"
     ]
    }
   ],
   "source": [
    "print(re.search(r\"\\..*\",\"company@gmail.com\")) \n",
    "\n",
    "# the \\. matches a dot .   -->   .* followed by any char in as many repetions "
   ]
  },
  {
   "cell_type": "code",
   "execution_count": null,
   "metadata": {},
   "outputs": [],
   "source": []
  }
 ],
 "metadata": {
  "kernelspec": {
   "display_name": "Python 3",
   "language": "python",
   "name": "python3"
  },
  "language_info": {
   "codemirror_mode": {
    "name": "ipython",
    "version": 3
   },
   "file_extension": ".py",
   "mimetype": "text/x-python",
   "name": "python",
   "nbconvert_exporter": "python",
   "pygments_lexer": "ipython3",
   "version": "3.9.0"
  }
 },
 "nbformat": 4,
 "nbformat_minor": 4
}
