{
 "cells": [
  {
   "cell_type": "code",
   "execution_count": 1,
   "metadata": {},
   "outputs": [],
   "source": [
    "import re"
   ]
  },
  {
   "cell_type": "markdown",
   "metadata": {},
   "source": [
    "**\\d**\n",
    "Matches any decimal digit; this is equivalent to the class [0-9].\n",
    "\n",
    "**\\D**\n",
    "Matches any non-digit character; this is equivalent to the class [^0-9].\n",
    "\n",
    "**\\s**\n",
    "Matches any whitespace character; this is equivalent to the class [ \\t\\n\\r\\f\\v].\n",
    "\n",
    "**\\S**\n",
    "Matches any non-whitespace character; this is equivalent to the class [^ \\t\\n\\r\\f\\v].\n",
    "\n",
    "**\\w**\n",
    "Matches any alphanumeric character; this is equivalent to the class [a-zA-Z0-9_].\n",
    "\n",
    "**\\W**\n",
    "Matches any non-alphanumeric character; this is equivalent to the class [^a-zA-Z0-9_]."
   ]
  },
  {
   "cell_type": "code",
   "execution_count": 29,
   "metadata": {},
   "outputs": [
    {
     "name": "stdout",
     "output_type": "stream",
     "text": [
      "<re.Match object; span=(10, 13), match='334'>\n",
      "<re.Match object; span=(0, 3), match='334'>\n"
     ]
    }
   ],
   "source": [
    "print(re.search(r\"\\d+\",\"My age is 334\"))\n",
    "\n",
    "print(re.search(r\"\\w+\",\"334\"))  #same think "
   ]
  },
  {
   "cell_type": "markdown",
   "metadata": {},
   "source": [
    "#### Fast quiz:\n",
    "    - Fill in the code to check if text passed has at least 2 groups of alphanumeric characters separated by one or more whitespace characters"
   ]
  },
  {
   "cell_type": "code",
   "execution_count": 46,
   "metadata": {},
   "outputs": [
    {
     "name": "stdout",
     "output_type": "stream",
     "text": [
      "False\n",
      "True\n",
      "True\n",
      "False\n",
      "True\n"
     ]
    }
   ],
   "source": [
    "def check_character_groups(text):\n",
    "    \n",
    "    result = re.search(r\"\\w+\\s\\w+\\s*\", text)\n",
    "    return result != None\n",
    "\n",
    "print(check_character_groups(\"One\")) # False\n",
    "print(check_character_groups(\"123  Ready Set GO\")) # True\n",
    "print(check_character_groups(\"username user_01\")) # True\n",
    "print(check_character_groups(\"shopping_list: milk, bread, eggs.\")) # False\n",
    "print(check_character_groups(\"word   1323 nothing\")) # True"
   ]
  },
  {
   "cell_type": "markdown",
   "metadata": {},
   "source": [
    "### Regular Expressions in Action"
   ]
  },
  {
   "cell_type": "code",
   "execution_count": 51,
   "metadata": {},
   "outputs": [
    {
     "name": "stdout",
     "output_type": "stream",
     "text": [
      "<re.Match object; span=(0, 9), match='Argentina'>\n",
      "<re.Match object; span=(0, 9), match='Azerbaija'>\n"
     ]
    }
   ],
   "source": [
    "print(re.search(r\"A.*a\", \"Argentina\"))\n",
    "\n",
    "print(re.search(r\"A.*a\", \"Azerbaijan\")) # wrong ending"
   ]
  },
  {
   "cell_type": "code",
   "execution_count": 52,
   "metadata": {},
   "outputs": [
    {
     "name": "stdout",
     "output_type": "stream",
     "text": [
      "<re.Match object; span=(0, 10), match='Azerbaijan'>\n",
      "<re.Match object; span=(0, 9), match='Australia'>\n"
     ]
    }
   ],
   "source": [
    "print(re.search(r\"^A.*n$\", \"Azerbaijan\"))\n",
    "print(re.search(r\"^A.*a$\", \"Australia\"))"
   ]
  },
  {
   "cell_type": "markdown",
   "metadata": {},
   "source": [
    "We want to find put if a variable name(string) is a valid variable ( NO SPACES)"
   ]
  },
  {
   "cell_type": "code",
   "execution_count": 55,
   "metadata": {},
   "outputs": [
    {
     "name": "stdout",
     "output_type": "stream",
     "text": [
      "<re.Match object; span=(0, 29), match='this_is_a_valid_variable_name'>\n",
      "None\n",
      "<re.Match object; span=(0, 12), match='my_variable1'>\n",
      "<re.Match object; span=(0, 13), match='2my_variable1'>\n",
      "<re.Match object; span=(0, 9), match='variable1'>\n",
      "<re.Match object; span=(0, 10), match='_variable1'>\n"
     ]
    }
   ],
   "source": [
    "pattern = r\"^[a-zA-Z0-9_]*$\"\n",
    "\n",
    "print(re.search(pattern, \"this_is_a_valid_variable_name\"))\n",
    "print(re.search(pattern, \"this isn't a valid variable name\"))\n",
    "print(re.search(pattern, \"my_variable1\"))\n",
    "print(re.search(pattern, \"2my_variable1\"))\n",
    "\n",
    "\n",
    "print(re.search(pattern, \"variable1\"))\n",
    "print(re.search(pattern, \"_variable1\"))"
   ]
  },
  {
   "cell_type": "markdown",
   "metadata": {},
   "source": [
    "#### Fast quiz:\n",
    "    - Fill in the code to check if the text passed looks like a standard sentence, meaning that it starts with an uppercase letter, followed by at least some lowercase letters or a space, and ends with a period, question mark or exclamation point"
   ]
  },
  {
   "cell_type": "code",
   "execution_count": 123,
   "metadata": {},
   "outputs": [
    {
     "name": "stdout",
     "output_type": "stream",
     "text": [
      "True\n",
      "False\n",
      "False\n",
      "False\n",
      "True\n"
     ]
    }
   ],
   "source": [
    "def check_sentence(text):\n",
    "    result = re.search(r\"^[A-Z][\\s|\\w]*[.?\\!]$\", text)\n",
    "    return result != None\n",
    "\n",
    "print(check_sentence(\"Is this is a sentence?\")) # True\n",
    "print(check_sentence(\"is this is a sentence?\")) # False\n",
    "print(check_sentence(\"Hello\")) # False\n",
    "print(check_sentence(\"1-2-3-GO!\")) # False\n",
    "print(check_sentence(\"A star is born.\")) # True"
   ]
  },
  {
   "cell_type": "code",
   "execution_count": null,
   "metadata": {},
   "outputs": [],
   "source": []
  },
  {
   "cell_type": "code",
   "execution_count": null,
   "metadata": {},
   "outputs": [],
   "source": []
  }
 ],
 "metadata": {
  "kernelspec": {
   "display_name": "Python 3",
   "language": "python",
   "name": "python3"
  },
  "language_info": {
   "codemirror_mode": {
    "name": "ipython",
    "version": 3
   },
   "file_extension": ".py",
   "mimetype": "text/x-python",
   "name": "python",
   "nbconvert_exporter": "python",
   "pygments_lexer": "ipython3",
   "version": "3.9.0"
  }
 },
 "nbformat": 4,
 "nbformat_minor": 4
}
