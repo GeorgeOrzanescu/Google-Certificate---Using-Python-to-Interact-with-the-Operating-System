{
 "cells": [
  {
   "cell_type": "code",
   "execution_count": 1,
   "metadata": {},
   "outputs": [],
   "source": [
    "import re"
   ]
  },
  {
   "cell_type": "code",
   "execution_count": 3,
   "metadata": {},
   "outputs": [
    {
     "name": "stdout",
     "output_type": "stream",
     "text": [
      "['One sentence', ' Another one', ' And the last one', '']\n",
      "['One sentence', '.', ' Another one', '?', ' And the last one', '!', '']\n"
     ]
    }
   ],
   "source": [
    "# Split function from the re module works by taking any regular expression as a separator\n",
    "print(re.split(r\"[.?!]\", \"One sentence. Another one? And the last one!\"))\n",
    "\n",
    "# Use capturing parentheses to split list to include the elements that is used to split the values\n",
    "print(re.split(r\"([.?!])\", \"One sentence. Another one? And the last one!\"))"
   ]
  },
  {
   "cell_type": "code",
   "execution_count": 4,
   "metadata": {},
   "outputs": [
    {
     "name": "stdout",
     "output_type": "stream",
     "text": [
      "Received an email for [REDACTED]\n"
     ]
    }
   ],
   "source": [
    "# Sub function from the re module is used for creating new strings by substituting all or part of them for a different string\n",
    "# It uses regular expressions for both the matching and the replacing\n",
    "print(re.sub(r\"[\\w.%+-]+@[\\w.-]+\", \"[REDACTED]\", \"Received an email for go_nuts95@my.example.com\"))"
   ]
  },
  {
   "cell_type": "code",
   "execution_count": 9,
   "metadata": {},
   "outputs": [
    {
     "name": "stdout",
     "output_type": "stream",
     "text": [
      "Ada Lovelace\n"
     ]
    }
   ],
   "source": [
    "print(re.sub(r\"^([\\w .-]*), ([\\w .-]*)$\", r\"\\2 \\1\", \"Lovelace, Ada\")) #the second parameter \\num of group "
   ]
  },
  {
   "cell_type": "code",
   "execution_count": null,
   "metadata": {},
   "outputs": [],
   "source": []
  }
 ],
 "metadata": {
  "kernelspec": {
   "display_name": "Python 3",
   "language": "python",
   "name": "python3"
  },
  "language_info": {
   "codemirror_mode": {
    "name": "ipython",
    "version": 3
   },
   "file_extension": ".py",
   "mimetype": "text/x-python",
   "name": "python",
   "nbconvert_exporter": "python",
   "pygments_lexer": "ipython3",
   "version": "3.9.0"
  }
 },
 "nbformat": 4,
 "nbformat_minor": 4
}
