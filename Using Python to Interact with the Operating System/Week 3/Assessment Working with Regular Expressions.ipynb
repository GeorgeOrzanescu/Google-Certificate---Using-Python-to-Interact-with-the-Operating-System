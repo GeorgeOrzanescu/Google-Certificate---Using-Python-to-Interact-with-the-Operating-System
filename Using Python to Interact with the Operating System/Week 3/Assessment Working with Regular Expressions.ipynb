{
 "cells": [
  {
   "cell_type": "markdown",
   "metadata": {},
   "source": [
    "### Introduction\n",
    "It's time to put your new skills to the test! In this lab, you'll have to find the users using an old email domain in a big list using regular expressions. \n",
    "\n",
    "### What you'll do\n",
    "Replacing the old domain name (abc.edu) with a new domain name (xyz.edu).\n",
    "Storing all domain names, including the updated ones, in a new file.\n"
   ]
  },
  {
   "cell_type": "code",
   "execution_count": null,
   "metadata": {},
   "outputs": [],
   "source": [
    "#!/usr/bin/env python3\n",
    "\n",
    "import re\n",
    "import csv\n",
    "\n",
    "def contains_domain(address, domain):\n",
    "    \"\"\"Returns True if the email address contains the given,domain,in the domain position, false if not.\"\"\"\n",
    "    domain = r'[\\w\\.-]+@'+domain+'$'\n",
    "    if re.match(domain,address):\n",
    "        return True\n",
    "    return False\n",
    "\n",
    "def replace_domain(address, old_domain, new_domain):\n",
    "    \"\"\"Replaces the old domain with the new domain in the received address.\"\"\"\n",
    "    old_domain_pattern = r'' + old_domain + '$'\n",
    "    address = re.sub(old_domain_pattern, new_domain, address)\n",
    "    return address\n",
    "\n",
    "def main():\n",
    "    \n",
    "    \"\"\"Processes the list of emails, replacing any instances of the old domain with the new domain.\"\"\"\n",
    "    old_domain, new_domain = 'abc.edu', 'xyz.edu'\n",
    "    csv_file_location = '<csv_file_location>'\n",
    "    report_file = '<path_to_home_directory>' + '/updated_user_emails.csv'\n",
    "    user_email_list = []\n",
    "    old_domain_email_list = []\n",
    "    new_domain_email_list = []\n",
    "\n",
    "    with open(csv_file_location, 'r') as f:\n",
    "        user_data_list = list(csv.reader(f))\n",
    "        user_email_list = [data[1].strip() for data in user_data_list[1:]]\n",
    "\n",
    "        for email_address in user_email_list:\n",
    "            if contains_domain(email_address, old_domain):\n",
    "                old_domain_email_list.append(email_address)\n",
    "                replaced_email = replace_domain(email_address,old_domain,new_domain)\n",
    "                new_domain_email_list.append(replaced_email)\n",
    "\n",
    "        email_key = ' ' + 'Email Address'\n",
    "        email_index = user_data_list[0].index(email_key)\n",
    "\n",
    "        for user in user_data_list[1:]:\n",
    "            for old_domain, new_domain in zip(old_domain_email_list, new_domain_email_list):\n",
    "                if user[email_index] == ' ' + old_domain:\n",
    "                    user[email_index] = ' ' + new_domain\n",
    "    f.close()\n",
    "\n",
    "    with open(report_file, 'w+') as output_file:\n",
    "        writer = csv.writer(output_file)\n",
    "        writer.writerows(user_data_list)\n",
    "        output_file.close()\n",
    "\n",
    "main()"
   ]
  }
 ],
 "metadata": {
  "kernelspec": {
   "display_name": "Python 3",
   "language": "python",
   "name": "python3"
  },
  "language_info": {
   "codemirror_mode": {
    "name": "ipython",
    "version": 3
   },
   "file_extension": ".py",
   "mimetype": "text/x-python",
   "name": "python",
   "nbconvert_exporter": "python",
   "pygments_lexer": "ipython3",
   "version": "3.9.0"
  }
 },
 "nbformat": 4,
 "nbformat_minor": 4
}
