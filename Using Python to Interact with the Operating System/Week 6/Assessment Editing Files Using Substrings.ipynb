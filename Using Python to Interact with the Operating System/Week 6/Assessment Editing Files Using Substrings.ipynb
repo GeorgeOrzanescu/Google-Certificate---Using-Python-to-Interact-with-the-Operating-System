{
 "cells": [
  {
   "cell_type": "markdown",
   "metadata": {},
   "source": [
    "### Introduction\n",
    "In this lab, you'll change the username of your coworker Jane Doe from \"jane\" to \"jdoe\" in compliance with company's naming policy. The username change has already been done. However, some files that were named with Jane's previous username \"jane\" haven't been updated yet. To help with this, you'll write a bash script and a Python script that will take care of the necessary rename operations.\n",
    "\n",
    "### What you'll do\n",
    "    - Practice using the cat, grep, and cut commands for file operations\n",
    "    - Use > and >> commands to redirect I/O stream\n",
    "    - Replace a substring using Python\n",
    "    - Run bash commands in Python"
   ]
  },
  {
   "cell_type": "code",
   "execution_count": null,
   "metadata": {},
   "outputs": [],
   "source": [
    "#findJane.sh script\n",
    "\n",
    "#!/bin/bash\n",
    "grep \" jane \" ../data/list.txt | cut -d ' ' -f 3 > temp.txt\n",
    "files=$(<temp.txt)\n",
    "\n",
    "for i in $files ; do\n",
    "    if test -e \"..$i\"; then echo \"$i\" >> oldFiles.txt;\n",
    "    fi\n",
    "done"
   ]
  },
  {
   "cell_type": "code",
   "execution_count": null,
   "metadata": {},
   "outputs": [],
   "source": [
    "# changeJane.py script\n",
    "\n",
    "#!/usr/bin/env python3\n",
    "\n",
    "import sys\n",
    "import os\n",
    "from pathlib import Path\n",
    "with open (sys.argv[1], \"r\") as myfile:\n",
    "    for line in myfile:\n",
    "        data= line.replace(\"\\n\", \"\")\n",
    "        base=os.path.basename(data)\n",
    "        baseNew = base.replace(\"jane\",\"jdoe\")\n",
    "\n",
    "        #Change to data directory !\n",
    "        os.chdir('/home/<student_folder_name>/data')\n",
    "        os.rename(base, baseNew)\n",
    "myfile.close()"
   ]
  }
 ],
 "metadata": {
  "kernelspec": {
   "display_name": "Python 3",
   "language": "python",
   "name": "python3"
  },
  "language_info": {
   "codemirror_mode": {
    "name": "ipython",
    "version": 3
   },
   "file_extension": ".py",
   "mimetype": "text/x-python",
   "name": "python",
   "nbconvert_exporter": "python",
   "pygments_lexer": "ipython3",
   "version": "3.9.0"
  }
 },
 "nbformat": 4,
 "nbformat_minor": 4
}
