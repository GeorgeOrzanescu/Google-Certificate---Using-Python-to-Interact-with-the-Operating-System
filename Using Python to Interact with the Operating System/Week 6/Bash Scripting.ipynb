{
 "cells": [
  {
   "cell_type": "markdown",
   "metadata": {},
   "source": [
    "#### Bash is the most commonly used shell on Linux. Bash is not only the interpreter that runs our commands, it's also a scripting language.\n",
    "\n",
    "    ps command can list all the current running processes\n",
    "    free command can show you the amount of free memory\n",
    "    uptime command can tell you how long the computer has been on"
   ]
  },
  {
   "cell_type": "markdown",
   "metadata": {},
   "source": [
    "#### Using Variables and Globs\n",
    "Environment variables are set in the environment in which the command is executing.\n",
    "\n",
    "**=** sign is used to set an environment variables\n",
    "**There can be no spaces between the name of the variable and the equal sign, or between the equal sign and the value**\n",
    "Any variable that you define in a script or in the command line is local to the environment where it was defined\n",
    "$ prefix is used to access the value of a variable\n",
    "export command to export commands from that environment\n",
    "\n",
    "#### Globs are characters that allow us to create list of files. \n",
    "\n",
    "The star and question mark are the most common globs.\n",
    "\n",
    "    using a * in the command line will match all filenames that follow the format that we specify\n",
    "    using a **?** sign in the command line will match exactly one character instead of any amount of characters\n",
    "    ? can be repeated as many times as we need"
   ]
  },
  {
   "cell_type": "code",
   "execution_count": null,
   "metadata": {},
   "outputs": [],
   "source": [
    "#!/bin/bash\n",
    "## this is the one commmnad per line example\n",
    "\n",
    "echo \"Starting at: $(date)\"\n",
    "echo\n",
    "\n",
    "echo \"UPTIME\"\n",
    "uptime\n",
    "echo\n",
    "\n",
    "echo \"FREE\"\n",
    "free\n",
    "echo\n",
    "\n",
    "echo \"WHO\"\n",
    "who\n",
    "echo\n",
    "\n",
    "echo \"Finishing at: $(date)\""
   ]
  },
  {
   "cell_type": "code",
   "execution_count": null,
   "metadata": {},
   "outputs": [],
   "source": [
    "#!/bin/bash\n",
    "## this is multiple commands per line\n",
    "\n",
    "echo \"Starting at: $(date)\"; echo   #--> the $( ) sends the output of the date commnand to the echo\n",
    "\n",
    "echo \"UPTIME\"; uptime; echo\n",
    "\n",
    "echo \"FREE\"; free; echo\n",
    "\n",
    "echo \"WHO\"; who; echo\n",
    "\n",
    "echo \"Finishing at: $(date)\""
   ]
  },
  {
   "cell_type": "code",
   "execution_count": null,
   "metadata": {},
   "outputs": [],
   "source": [
    "# create a variable !! be aware of the no space rule\n",
    "\n",
    "line=\"--------------------\"\n",
    "\n",
    "# to get the value of the variable \n",
    "\n",
    "$line"
   ]
  },
  {
   "cell_type": "code",
   "execution_count": null,
   "metadata": {},
   "outputs": [],
   "source": [
    "#!/bin/bash\n",
    "\n",
    "if grep \"127.0.0.1\" /etc/hosts; then\n",
    "    echo \"Everything ok\"\n",
    "else\n",
    "    echo \"ERROR! 127.0.0.1 is not in /etc/hosts\"\n",
    "fi"
   ]
  },
  {
   "cell_type": "markdown",
   "metadata": {},
   "source": [
    "There is a command called Test. \n",
    "#### Test is a command that evaluates the conditions received and exits with zero when they are true and with one when they're false. "
   ]
  },
  {
   "cell_type": "code",
   "execution_count": null,
   "metadata": {},
   "outputs": [],
   "source": [
    "#FIRST WAY\n",
    "\n",
    "if test -n \"$PATH\"; then echo \"Your path is not empty\"; fi\n",
    "\n",
    "# test  checks if the test variable is empty or not     \n",
    "\n",
    "#SECOND WAY\n",
    "\n",
    "if [ -n \"$PATH\" ]; then echo \"Your path is not empty\"; fi  # [space  space]"
   ]
  },
  {
   "cell_type": "markdown",
   "metadata": {},
   "source": [
    "https://www.shellscript.sh/\n",
    "\n",
    "https://linuxconfig.org/bash-scripting-tutorial-for-beginners"
   ]
  },
  {
   "cell_type": "code",
   "execution_count": null,
   "metadata": {},
   "outputs": [],
   "source": []
  }
 ],
 "metadata": {
  "kernelspec": {
   "display_name": "Python 3",
   "language": "python",
   "name": "python3"
  },
  "language_info": {
   "codemirror_mode": {
    "name": "ipython",
    "version": 3
   },
   "file_extension": ".py",
   "mimetype": "text/x-python",
   "name": "python",
   "nbconvert_exporter": "python",
   "pygments_lexer": "ipython3",
   "version": "3.9.0"
  }
 },
 "nbformat": 4,
 "nbformat_minor": 4
}
