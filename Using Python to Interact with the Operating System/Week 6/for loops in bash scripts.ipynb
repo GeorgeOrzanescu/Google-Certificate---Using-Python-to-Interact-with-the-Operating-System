{
 "cells": [
  {
   "cell_type": "code",
   "execution_count": null,
   "metadata": {},
   "outputs": [],
   "source": [
    "# fruits.sh script\n",
    "\n",
    "#!/bin/bash\n",
    "\n",
    "for fruit in peach orange apple; do\n",
    "    echo \"I like $fruit!\"\n",
    "done"
   ]
  },
  {
   "cell_type": "markdown",
   "metadata": {},
   "source": [
    "#### Let's use a practical example to see this in action. Imagine that you're migrating your company's website from one web server software to another. Your web content is stored in a bunch of files that all end in uppercase HTM, and the new software requires that they all end in lowercase HTML, disaster. "
   ]
  },
  {
   "cell_type": "code",
   "execution_count": null,
   "metadata": {},
   "outputs": [],
   "source": [
    "#rename.sh script\n",
    "\n",
    "#!/bin/bash\n",
    "\n",
    "for file in *.HTM; do\n",
    "    name=$(basename \"$file\" .HTM)\n",
    "    mv \"$file\" \"$name.html\"\n",
    "    echo mv \"$file\" \"$name.html\" # run with this line first to see if it does what it suppose\n",
    "done\n"
   ]
  },
  {
   "cell_type": "markdown",
   "metadata": {},
   "source": [
    "### !! whenever we have scripts that modify files , it is common practice to first run it without actually modifying stuff -- a simpl echo will do\n"
   ]
  },
  {
   "cell_type": "code",
   "execution_count": null,
   "metadata": {},
   "outputs": [],
   "source": []
  }
 ],
 "metadata": {
  "kernelspec": {
   "display_name": "Python 3",
   "language": "python",
   "name": "python3"
  },
  "language_info": {
   "codemirror_mode": {
    "name": "ipython",
    "version": 3
   },
   "file_extension": ".py",
   "mimetype": "text/x-python",
   "name": "python",
   "nbconvert_exporter": "python",
   "pygments_lexer": "ipython3",
   "version": "3.9.0"
  }
 },
 "nbformat": 4,
 "nbformat_minor": 4
}
