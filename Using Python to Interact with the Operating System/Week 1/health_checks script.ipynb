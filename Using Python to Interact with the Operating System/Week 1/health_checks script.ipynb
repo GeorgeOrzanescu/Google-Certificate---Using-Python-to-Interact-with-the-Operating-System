{
 "cells": [
  {
   "cell_type": "code",
   "execution_count": null,
   "metadata": {},
   "outputs": [],
   "source": [
    "#!/usr/bin/env python3    "
   ]
  },
  {
   "cell_type": "markdown",
   "metadata": {},
   "source": [
    "the first line is called **shebang** and is used to tell the operating system which interpreter to use to parse the rest of the file"
   ]
  },
  {
   "cell_type": "code",
   "execution_count": null,
   "metadata": {},
   "outputs": [],
   "source": [
    "#imports\n",
    "\n",
    "from network import *  # read https://docs.python.org/2/tutorial/modules.html   \n",
    "import shutil\n",
    "import psutil"
   ]
  },
  {
   "cell_type": "markdown",
   "metadata": {},
   "source": [
    "**psutil** (python system and process utilities) is a cross-platform library for retrieving information on running processes and system utilization (CPU, memory, disks, network, sensors) in Python\n",
    "\n",
    "**shutil** module offers a number of high-level operations on files and collections of files. In particular, functions are provided which support file copying and removal."
   ]
  },
  {
   "cell_type": "code",
   "execution_count": null,
   "metadata": {},
   "outputs": [],
   "source": [
    "def check_disk_usage(disk):\n",
    "    \"\"\"Verifies that there's enough free space on disk\"\"\"\n",
    "    du = shutil.disk_usage(disk)\n",
    "    free = du.free / du.total * 100\n",
    "    return free > 20"
   ]
  },
  {
   "cell_type": "code",
   "execution_count": null,
   "metadata": {},
   "outputs": [],
   "source": [
    "def check_cpu_usage():\n",
    "    \"\"\"Verifies that there's enough unused CPU\"\"\"\n",
    "    usage = psutil.cpu_percent(1)\n",
    "    return usage < 75\n",
    "# If there's not enough disk, or not enough CPU, print an error"
   ]
  },
  {
   "cell_type": "code",
   "execution_count": null,
   "metadata": {},
   "outputs": [],
   "source": [
    "if not check_disk_usage('/') or not check_cpu_usage():\n",
    "    print(\"ERROR!\")\n",
    "elif check_localhost() and check_connectivity():\n",
    "    print(\"Everything ok\")\n",
    "else:\n",
    "    print(\"Network checks failed\")"
   ]
  }
 ],
 "metadata": {
  "kernelspec": {
   "display_name": "Python 3",
   "language": "python",
   "name": "python3"
  },
  "language_info": {
   "codemirror_mode": {
    "name": "ipython",
    "version": 3
   },
   "file_extension": ".py",
   "mimetype": "text/x-python",
   "name": "python",
   "nbconvert_exporter": "python",
   "pygments_lexer": "ipython3",
   "version": "3.9.0"
  }
 },
 "nbformat": 4,
 "nbformat_minor": 4
}
