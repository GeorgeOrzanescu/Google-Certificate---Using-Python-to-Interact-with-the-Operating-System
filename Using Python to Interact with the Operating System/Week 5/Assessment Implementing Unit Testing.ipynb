{
 "cells": [
  {
   "cell_type": "markdown",
   "metadata": {},
   "source": [
    "\n",
    "### Introduction\n",
    "\n",
    "Imagine one of your IT coworkers just retired and left a folder of scripts for you to use. One of the scripts, called emails.py, matches users to an email address and lets us easily look them up! For the most part, the script works great — you enter in an employee's name and their email is printed to the screen. But, for some employees, the output doesn't look quite right. Your job is to add a test to reproduce the bug, make the necessary corrections, and verify that all the tests pass to make sure the script works! Best of luck!\n",
    "\n",
    "### What you'll do\n",
    "\n",
    "    -Write a simple test to check for basic functionality\n",
    "    -Write a test to check for edge cases\n",
    "    -Correct code with a try/except statement"
   ]
  },
  {
   "cell_type": "code",
   "execution_count": null,
   "metadata": {},
   "outputs": [],
   "source": [
    "#!/usr/bin/env python3                     # script name emails_test.py\n",
    "\n",
    "import unittest\n",
    "from emails import find_email\n",
    "\n",
    "\n",
    "class EmailsTest(unittest.TestCase):\n",
    "    \n",
    "    def test_basic(self):\n",
    "        testcase = [None, \"Bree\", \"Campbell\"]\n",
    "        expected = \"breee@abc.edu\"\n",
    "        self.assertEqual(find_email(testcase), expected)\n",
    "\n",
    "    def test_one_name(self):\n",
    "        testcase = [None, \"John\"]\n",
    "        expected = \"Missing parameters\"\n",
    "        self.assertEqual(find_email(testcase), expected)\n",
    "\n",
    "    def test_two_name(self):\n",
    "        testcase = [None, \"Roy\",\"Cooper\"]\n",
    "        expected = \"No email address found\"\n",
    "        self.assertEqual(find_email(testcase), expected)\n",
    "\n",
    "if __name__ == '__main__':\n",
    "      unittest.main()\n"
   ]
  },
  {
   "cell_type": "code",
   "execution_count": null,
   "metadata": {},
   "outputs": [],
   "source": [
    "#!/usr/bin/env python3                 # script name emails.py\n",
    "\n",
    "import csv\n",
    "import sys\n",
    "\n",
    "\n",
    "def populate_dictionary(filename):\n",
    "      \"\"\"Populate a dictionary with name/email pairs for easy lookup.\"\"\"\n",
    "    email_dict = {}\n",
    "    with open(filename) as csvfile:\n",
    "        lines = csv.reader(csvfile, delimiter = ',')\n",
    "    for row in lines:\n",
    "        name = str(row[0].lower())\n",
    "        email_dict[name] = row[1]\n",
    "    return email_dict\n",
    "\n",
    "def find_email(argv):\n",
    "    \"\"\" Return an email address based on the username given.\"\"\"\n",
    "    # Create the username based on the command line input.\n",
    "    try:\n",
    "        fullname = str(argv[1] + \" \" + argv[2])\n",
    "        # Preprocess the data\n",
    "        email_dict = populate_dictionary('/home/{{ username }}/data/user_emails.csv')\n",
    "         # If email exists, print it\n",
    "        if email_dict.get(fullname.lower()):\n",
    "            return email_dict.get(fullname.lower())\n",
    "        else:\n",
    "            return \"No email address found\"\n",
    "    except IndexError:\n",
    "        return \"Missing parameters\"\n",
    "\n",
    "def main():\n",
    "    print(find_email(sys.argv))\n",
    "\n",
    "if __name__ == \"__main__\":\n",
    "    main()\n"
   ]
  }
 ],
 "metadata": {
  "kernelspec": {
   "display_name": "Python 3",
   "language": "python",
   "name": "python3"
  },
  "language_info": {
   "codemirror_mode": {
    "name": "ipython",
    "version": 3
   },
   "file_extension": ".py",
   "mimetype": "text/x-python",
   "name": "python",
   "nbconvert_exporter": "python",
   "pygments_lexer": "ipython3",
   "version": "3.9.0"
  }
 },
 "nbformat": 4,
 "nbformat_minor": 4
}
