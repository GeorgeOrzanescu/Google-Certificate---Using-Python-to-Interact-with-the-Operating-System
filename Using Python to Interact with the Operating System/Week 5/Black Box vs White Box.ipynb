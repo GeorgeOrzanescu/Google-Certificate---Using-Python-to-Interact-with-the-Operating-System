{
 "cells": [
  {
   "cell_type": "markdown",
   "metadata": {},
   "source": [
    "## Black Box vs. White Box\n",
    "    - White-box testing, clear-box or transparent testing relies on the test creators knowledge of the software being tested to construct the test cases.\n",
    "\n",
    "    White-box tests are helpful because a test writer can use their knowledge of the source code to create tests that cover most of the ways that the program behaves.\n",
    "    \n",
    "    - Black-box tests or opaque testing are written with an awareness of what the program is supposed to do, its requirements or specifications, but not how it does it.\n",
    "\n",
    "    Black-box tests are useful because they don't rely on the knowledge of how the system works. This means their test cases are less likely to be biased by the code. They usually cover situations not anticipated by the programmer who originally wrote the script.\n",
    "    \n",
    "### Other Test Types\n",
    "For different tests, separate test environment for test may be needed to runs a test version of our software that we're trying to verify.\n",
    "\n",
    "#### Integration tests take the individual modules of code that unit test verify then combine them into a group to test. It verify that the interactions between the different pieces of code in integrated environments are working as expected.\n",
    "\n",
    "#### Regression test is a variant of unit tests. It is usually written as part of a debugging and troubleshooting process to verify that an issue or error has been fixed once it's been identified. Regression tests are useful part of a test suite because they ensure that the same mistake doesn't happen twice.\n",
    "\n",
    "#### Smoke test sometimes called build verification test, get their name from a concept that comes from testing hardware equipment.\n",
    "    - Smoke test for a web service would be to check if there's a service running on the corresponding port\n",
    "    - Smoke test for an automation script would be to run it manually with some basic input and check that the script finishes successfully\n",
    "    \n",
    "#### Load tests verify that the system behaves well when it's under significant load.\n",
    "\n",
    "Taking together a group of tests of one or many kinds is commonly referred to as a test suite.\n",
    "\n",
    "### Test-Driven Development\n",
    "Test-driven development or TDD is a process that calls for creating the test before writing the code.\n",
    "\n",
    "Continuous Integration is a process that combines version control system and developmement processes. When engineers submit their code, it's integrated into the main repository and tests are automatically run against it to spot bugs and errors.\n",
    "\n"
   ]
  },
  {
   "cell_type": "code",
   "execution_count": null,
   "metadata": {},
   "outputs": [],
   "source": []
  }
 ],
 "metadata": {
  "kernelspec": {
   "display_name": "Python 3",
   "language": "python",
   "name": "python3"
  },
  "language_info": {
   "codemirror_mode": {
    "name": "ipython",
    "version": 3
   },
   "file_extension": ".py",
   "mimetype": "text/x-python",
   "name": "python",
   "nbconvert_exporter": "python",
   "pygments_lexer": "ipython3",
   "version": "3.9.0"
  }
 },
 "nbformat": 4,
 "nbformat_minor": 4
}
