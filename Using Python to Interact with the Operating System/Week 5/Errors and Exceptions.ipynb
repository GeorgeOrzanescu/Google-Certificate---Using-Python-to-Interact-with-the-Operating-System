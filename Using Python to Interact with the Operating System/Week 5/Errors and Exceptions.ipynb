{
 "cells": [
  {
   "cell_type": "markdown",
   "metadata": {},
   "source": [
    "## Errors and Exceptions\n",
    "\n",
    "#### The Try-Except Construct\n",
    "Try-except construct is useful when trying to handle possible errors that could happen instead of multiple if/else statements.\n",
    "\n",
    "**The code in the except block is only executed if one of the instructions in the try block raise an error of the matching type. To use a try-except block, be aware of the errors that functions that we're calling might raise.**\n",
    "\n",
    "https://docs.python.org/3/tutorial/errors.html"
   ]
  },
  {
   "cell_type": "code",
   "execution_count": 2,
   "metadata": {},
   "outputs": [],
   "source": [
    "#!/usr/bin/env python3\n",
    "\n",
    "def char_frequency(filename):\n",
    "    \"\"\"\n",
    "    Counts the frequency of each character in the given file.\n",
    "    \"\"\"\n",
    "    # First try to open the file\n",
    "    try:\n",
    "        f = open(filename)\n",
    "        \n",
    "    # code in the except block is only executed if one of the instructions in the try block raise an error of the matching type\n",
    "    except OSError:\n",
    "        return None\n",
    "\n",
    "    # Now process the file\n",
    "    characters = {}\n",
    "    for line in f:\n",
    "        for char in line:\n",
    "            characters[char] = characters.get(char, 0) + 1\n",
    "    f.close()\n",
    "    return characters"
   ]
  },
  {
   "cell_type": "code",
   "execution_count": 3,
   "metadata": {},
   "outputs": [],
   "source": [
    "#!/usr/bin/env python3\n",
    "\n",
    "def validate_user(username, minlen):\n",
    "    assert type(username) == str, \"username must be a string\"\n",
    "    \n",
    "    \n",
    "    if minlen < 1:\n",
    "        raise ValueError(\"minlen must be at least 1\")\n",
    "    if len(username) < minlen:\n",
    "        return False\n",
    "    if not username.isalnum():\n",
    "        return False\n",
    "    return True"
   ]
  },
  {
   "cell_type": "code",
   "execution_count": 4,
   "metadata": {},
   "outputs": [
    {
     "name": "stderr",
     "output_type": "stream",
     "text": [
      "....\n",
      "----------------------------------------------------------------------\n",
      "Ran 4 tests in 0.003s\n",
      "\n",
      "OK\n"
     ]
    },
    {
     "data": {
      "text/plain": [
       "<unittest.main.TestProgram at 0x1d05980af70>"
      ]
     },
     "execution_count": 4,
     "metadata": {},
     "output_type": "execute_result"
    }
   ],
   "source": [
    "import unittest\n",
    "\n",
    "# from validations import validate_user  --> only if used in script\n",
    "\n",
    "class TestValidateUser(unittest.TestCase):\n",
    "    \n",
    "    def test_valid(self):\n",
    "        self.assertEqual(validate_user(\"validuser\", 3), True)\n",
    "    \n",
    "    def test_too_short(self):\n",
    "        self.assertEqual(validate_user(\"inv\", 5), False)\n",
    "    \n",
    "    def test_invalid_chars(self):\n",
    "        self.assertEqual(validate_user(\"invalid_user\", 1), False)\n",
    "        \n",
    "    def test_invalid_minlen(self):\n",
    "        self.assertRaises(ValueError, validate_user, \"user\", -1)\n",
    "        # Behind the scenes, this method is calling the function that we want to test \n",
    "        # using the try except block and checking that it does raise the error that we said it would raise. \n",
    "\n",
    "unittest.main(argv = ['first-arg-is-ignored'], exit = False)\n"
   ]
  },
  {
   "cell_type": "code",
   "execution_count": null,
   "metadata": {},
   "outputs": [],
   "source": []
  }
 ],
 "metadata": {
  "kernelspec": {
   "display_name": "Python 3",
   "language": "python",
   "name": "python3"
  },
  "language_info": {
   "codemirror_mode": {
    "name": "ipython",
    "version": 3
   },
   "file_extension": ".py",
   "mimetype": "text/x-python",
   "name": "python",
   "nbconvert_exporter": "python",
   "pygments_lexer": "ipython3",
   "version": "3.9.0"
  }
 },
 "nbformat": 4,
 "nbformat_minor": 4
}
